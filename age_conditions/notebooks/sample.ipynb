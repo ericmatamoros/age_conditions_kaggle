{
 "cells": [
  {
   "attachments": {},
   "cell_type": "markdown",
   "metadata": {},
   "source": [
    "Sample notebook"
   ]
  },
  {
   "cell_type": "code",
   "execution_count": 19,
   "metadata": {},
   "outputs": [],
   "source": [
    "import os # It will open the default notebook location path\n",
    "import pandas as pd\n",
    "import numpy as np\n",
    "\n",
    "os.chdir(os.getcwd() + \"/../../\")\n",
    "from age_conditions import DATA_PATH"
   ]
  },
  {
   "cell_type": "code",
   "execution_count": 23,
   "metadata": {},
   "outputs": [],
   "source": [
    "train = pd.read_csv(DATA_PATH / \"train.csv\")\n",
    "test = pd.read_csv(DATA_PATH / \"test.csv\")\n",
    "submission = pd.read_csv(DATA_PATH / \"sample_submission.csv\")\n",
    "greeks = pd.read_csv(DATA_PATH / \"greeks.csv\")"
   ]
  }
 ],
 "metadata": {
  "kernelspec": {
   "display_name": "property",
   "language": "python",
   "name": "python3"
  },
  "language_info": {
   "codemirror_mode": {
    "name": "ipython",
    "version": 3
   },
   "file_extension": ".py",
   "mimetype": "text/x-python",
   "name": "python",
   "nbconvert_exporter": "python",
   "pygments_lexer": "ipython3",
   "version": "3.9.16"
  },
  "orig_nbformat": 4
 },
 "nbformat": 4,
 "nbformat_minor": 2
}
